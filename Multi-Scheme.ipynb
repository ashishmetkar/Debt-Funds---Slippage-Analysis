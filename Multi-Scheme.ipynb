{
 "cells": [
  {
   "cell_type": "code",
   "execution_count": 36,
   "id": "4f2ac766",
   "metadata": {},
   "outputs": [],
   "source": [
    "import pandas as pd\n",
    "import numpy as np\n",
    "import datetime\n",
    "from dateutil.relativedelta import relativedelta\n",
    "from datetime import timedelta"
   ]
  },
  {
   "cell_type": "code",
   "execution_count": 37,
   "id": "d0f1d8f9",
   "metadata": {},
   "outputs": [],
   "source": [
    "input_workbook = 'Input.xlsx'"
   ]
  },
  {
   "cell_type": "code",
   "execution_count": 38,
   "id": "38227c1d",
   "metadata": {},
   "outputs": [],
   "source": [
    "df = pd.read_excel(input_workbook)"
   ]
  },
  {
   "cell_type": "code",
   "execution_count": 39,
   "id": "f3069c9a",
   "metadata": {},
   "outputs": [],
   "source": [
    "df_MD = pd.read_excel(input_workbook,sheet_name=\"Mod\")\n",
    "df_YTM = pd.read_excel(input_workbook,sheet_name=\"YTM\")\n",
    "df_AM = pd.read_excel(input_workbook,sheet_name=\"Average Maturity\")\n",
    "df_NAV = pd.read_excel(input_workbook,sheet_name=\"NAV\")\n",
    "df_monthlyNAV = pd.read_excel(input_workbook,sheet_name=\"Monthly NAV\")"
   ]
  },
  {
   "cell_type": "code",
   "execution_count": 40,
   "id": "d20ac4d3",
   "metadata": {},
   "outputs": [
    {
     "name": "stdout",
     "output_type": "stream",
     "text": [
      "Enter the date from which you want to run the analysis (in YYYY-MM-DD format): 2021-01-01\n",
      "Enter the date till which you want to run the analysis (in YYYY-MM-DD format): 2022-09-30\n"
     ]
    }
   ],
   "source": [
    "start_date = input('Enter the date from which you want to run the analysis (in YYYY-MM-DD format): ')\n",
    "year, month, day = map(int, start_date.split('-'))\n",
    "start_date = datetime.datetime(year, month, day)\n",
    "end_date = input('Enter the date till which you want to run the analysis (in YYYY-MM-DD format): ')\n",
    "year, month, day = map(int, end_date.split('-'))\n",
    "end_date = datetime.datetime(year, month, day)"
   ]
  },
  {
   "cell_type": "code",
   "execution_count": 41,
   "id": "e0fc3db3",
   "metadata": {},
   "outputs": [
    {
     "data": {
      "text/plain": [
       "DatetimeIndex(['2021-01-01', '2021-01-02', '2021-01-03', '2021-01-04',\n",
       "               '2021-01-05', '2021-01-06', '2021-01-07', '2021-01-08',\n",
       "               '2021-01-09', '2021-01-10',\n",
       "               ...\n",
       "               '2022-09-21', '2022-09-22', '2022-09-23', '2022-09-24',\n",
       "               '2022-09-25', '2022-09-26', '2022-09-27', '2022-09-28',\n",
       "               '2022-09-29', '2022-09-30'],\n",
       "              dtype='datetime64[ns]', length=638, freq='D')"
      ]
     },
     "execution_count": 41,
     "metadata": {},
     "output_type": "execute_result"
    }
   ],
   "source": [
    "Dates = pd.date_range(start_date,end_date,freq='d')\n",
    "Dates"
   ]
  },
  {
   "cell_type": "code",
   "execution_count": 42,
   "id": "4b0e2d95",
   "metadata": {},
   "outputs": [
    {
     "data": {
      "text/plain": [
       "['Aditya Birla Sun Life Money Manager Fund - Dir - Growth',\n",
       " 'HDFC Money Market Fund - Dir - Growth',\n",
       " 'ICICI Prudential Money Market Fund - Dir- Growth',\n",
       " 'Invesco India Money Market Fund - Dir - Growth',\n",
       " 'Kotak Money Market Fund - Dir - Growth',\n",
       " 'UTI Money Market Fund -Dir- Growth']"
      ]
     },
     "execution_count": 42,
     "metadata": {},
     "output_type": "execute_result"
    }
   ],
   "source": [
    "schemes_list = list(df.columns.values)\n",
    "schemes_list.remove('Date')\n",
    "schemes_list"
   ]
  },
  {
   "cell_type": "code",
   "execution_count": 43,
   "id": "b055b01d",
   "metadata": {},
   "outputs": [
    {
     "data": {
      "text/plain": [
       "4"
      ]
     },
     "execution_count": 43,
     "metadata": {},
     "output_type": "execute_result"
    }
   ],
   "source": [
    "n = len(schemes_list) - 2\n",
    "n"
   ]
  },
  {
   "cell_type": "code",
   "execution_count": 44,
   "id": "913e061d",
   "metadata": {},
   "outputs": [
    {
     "data": {
      "text/plain": [
       "Timedelta('1 days 00:00:00')"
      ]
     },
     "execution_count": 44,
     "metadata": {},
     "output_type": "execute_result"
    }
   ],
   "source": [
    "oneday = pd.Timedelta(days=1)\n",
    "oneday"
   ]
  },
  {
   "cell_type": "code",
   "execution_count": 45,
   "id": "5a330dcf",
   "metadata": {
    "scrolled": true
   },
   "outputs": [],
   "source": [
    "i=0\n",
    "dn = pd.DataFrame()\n",
    "while i <=n:\n",
    "    scheme = schemes_list[i]\n",
    "    df1 = pd.DataFrame ({\n",
    "        'Scheme': scheme,\n",
    "        'Date': Dates,\n",
    "    })\n",
    "    temp = pd.DataFrame()\n",
    "    temp = pd.merge(df1,df_MD[['Date',scheme]],on='Date',how='left')\n",
    "    temp = temp.fillna(method='ffill')\n",
    "    temp.rename(columns={scheme :'Mod on Purchase date'},inplace=True)\n",
    "    temp = pd.merge(temp,df_YTM[['Date',scheme]],on='Date',how='left')\n",
    "    temp = temp.fillna(method='ffill')\n",
    "    temp.rename(columns={scheme :'YTM - Previous Month end'},inplace=True)\n",
    "    temp = pd.merge(temp,df_monthlyNAV[['Date',scheme]],on='Date',how='left')\n",
    "    temp = temp.fillna(method='ffill')\n",
    "    temp.rename(columns={scheme :'Nav - Previous Month end'},inplace=True)\n",
    "    temp = pd.merge(temp,df_NAV[['Date',scheme]],on='Date',how='left')\n",
    "    temp = temp.fillna(method='ffill')\n",
    "    temp.rename(columns={scheme :'Nav - Purchase date'},inplace=True)\n",
    "    temp = pd.merge(temp,df_AM[['Date',scheme]],on='Date',how='left')\n",
    "    temp = temp.fillna(method='ffill')\n",
    "    temp.rename(columns={scheme :'Avg Mat'},inplace=True)\n",
    "    temp['Nav on end date'] = temp['Nav - Purchase date'][temp['Date']==end_date]\n",
    "    temp = temp.fillna(method='bfill')\n",
    "    temp['YTM as on end date'] = temp['YTM - Previous Month end'][temp['Date']==end_date]\n",
    "    temp = temp.fillna(method='bfill')\n",
    "    from pandas.tseries.offsets import MonthBegin\n",
    "    temp['MS'] = temp['Date'].dt.normalize().map(MonthBegin().rollback)\n",
    "    temp.rename(columns={'MS' :'Month Start'},inplace=True)\n",
    "    dn = pd.concat([dn,temp],axis=0)\n",
    "    i = i+1"
   ]
  },
  {
   "cell_type": "code",
   "execution_count": 46,
   "id": "ed9d20b2",
   "metadata": {},
   "outputs": [
    {
     "data": {
      "text/html": [
       "<div>\n",
       "<style scoped>\n",
       "    .dataframe tbody tr th:only-of-type {\n",
       "        vertical-align: middle;\n",
       "    }\n",
       "\n",
       "    .dataframe tbody tr th {\n",
       "        vertical-align: top;\n",
       "    }\n",
       "\n",
       "    .dataframe thead th {\n",
       "        text-align: right;\n",
       "    }\n",
       "</style>\n",
       "<table border=\"1\" class=\"dataframe\">\n",
       "  <thead>\n",
       "    <tr style=\"text-align: right;\">\n",
       "      <th></th>\n",
       "      <th>Scheme</th>\n",
       "      <th>Date</th>\n",
       "      <th>Mod on Purchase date</th>\n",
       "      <th>YTM - Previous Month end</th>\n",
       "      <th>Nav - Previous Month end</th>\n",
       "      <th>Nav - Purchase date</th>\n",
       "      <th>Avg Mat</th>\n",
       "      <th>Nav on end date</th>\n",
       "      <th>YTM as on end date</th>\n",
       "      <th>Month Start</th>\n",
       "    </tr>\n",
       "  </thead>\n",
       "  <tbody>\n",
       "  </tbody>\n",
       "</table>\n",
       "</div>"
      ],
      "text/plain": [
       "Empty DataFrame\n",
       "Columns: [Scheme, Date, Mod on Purchase date, YTM - Previous Month end, Nav - Previous Month end, Nav - Purchase date, Avg Mat, Nav on end date, YTM as on end date, Month Start]\n",
       "Index: []"
      ]
     },
     "execution_count": 46,
     "metadata": {},
     "output_type": "execute_result"
    }
   ],
   "source": [
    "#Missing Data\n",
    "dn[(dn['Mod on Purchase date'] == '--') | (dn['YTM - Previous Month end'] == '--')\\\n",
    "   | (dn['Nav - Previous Month end'] == '--') | (dn['Nav - Purchase date'] == '--') | (dn['Avg Mat'] == '--') ]"
   ]
  },
  {
   "cell_type": "code",
   "execution_count": 47,
   "id": "2c6198ed",
   "metadata": {},
   "outputs": [],
   "source": [
    "#Current Slippage\n",
    "\n",
    "dn['Return'] = (dn['Nav - Purchase date']/dn['Nav - Previous Month end']-1)*100\n",
    "dn['Return-Est'] = dn['YTM - Previous Month end']/100*((dn['Date']-dn['Month Start'])/oneday/365)*100\n",
    "dn['Yield impact'] = (dn['Return-Est'] - dn['Return'])/dn['Mod on Purchase date']\n",
    "dn['Yield on Purchase date'] = dn['Yield impact']+(dn['YTM - Previous Month end']/100)*100\n",
    "dn['IRR as on end date'] = (((dn['Nav on end date']/dn['Nav - Purchase date'])**((1/((end_date-dn['Date'])/365/oneday))))-1)*100\n",
    "dn['Slippage (Current)'] = dn['IRR as on end date'] - dn['Yield on Purchase date']"
   ]
  },
  {
   "cell_type": "code",
   "execution_count": 48,
   "id": "68520ddd",
   "metadata": {
    "scrolled": true
   },
   "outputs": [
    {
     "data": {
      "text/html": [
       "<div>\n",
       "<style scoped>\n",
       "    .dataframe tbody tr th:only-of-type {\n",
       "        vertical-align: middle;\n",
       "    }\n",
       "\n",
       "    .dataframe tbody tr th {\n",
       "        vertical-align: top;\n",
       "    }\n",
       "\n",
       "    .dataframe thead th {\n",
       "        text-align: right;\n",
       "    }\n",
       "</style>\n",
       "<table border=\"1\" class=\"dataframe\">\n",
       "  <thead>\n",
       "    <tr style=\"text-align: right;\">\n",
       "      <th></th>\n",
       "      <th>Maturity Date as per purchase date</th>\n",
       "      <th>Days left from end date</th>\n",
       "      <th>Nav on maturity</th>\n",
       "      <th>IRR at current YTM</th>\n",
       "      <th>Slippage (at Avg. Mat.)</th>\n",
       "    </tr>\n",
       "    <tr>\n",
       "      <th>Purchase Date</th>\n",
       "      <th></th>\n",
       "      <th></th>\n",
       "      <th></th>\n",
       "      <th></th>\n",
       "      <th></th>\n",
       "    </tr>\n",
       "  </thead>\n",
       "  <tbody>\n",
       "    <tr>\n",
       "      <th>2021-01-01</th>\n",
       "      <td>2021-04-01</td>\n",
       "      <td>0.0</td>\n",
       "      <td>305.206300</td>\n",
       "      <td>33.003150</td>\n",
       "      <td>Already Matured</td>\n",
       "    </tr>\n",
       "    <tr>\n",
       "      <th>2021-01-02</th>\n",
       "      <td>2021-04-02</td>\n",
       "      <td>0.0</td>\n",
       "      <td>305.206300</td>\n",
       "      <td>33.003150</td>\n",
       "      <td>Already Matured</td>\n",
       "    </tr>\n",
       "    <tr>\n",
       "      <th>2021-01-03</th>\n",
       "      <td>2021-04-03</td>\n",
       "      <td>0.0</td>\n",
       "      <td>305.206300</td>\n",
       "      <td>33.003150</td>\n",
       "      <td>Already Matured</td>\n",
       "    </tr>\n",
       "    <tr>\n",
       "      <th>2021-01-04</th>\n",
       "      <td>2021-04-04</td>\n",
       "      <td>0.0</td>\n",
       "      <td>305.206300</td>\n",
       "      <td>32.750132</td>\n",
       "      <td>Already Matured</td>\n",
       "    </tr>\n",
       "    <tr>\n",
       "      <th>2021-01-05</th>\n",
       "      <td>2021-04-05</td>\n",
       "      <td>0.0</td>\n",
       "      <td>305.206300</td>\n",
       "      <td>32.635940</td>\n",
       "      <td>Already Matured</td>\n",
       "    </tr>\n",
       "    <tr>\n",
       "      <th>...</th>\n",
       "      <td>...</td>\n",
       "      <td>...</td>\n",
       "      <td>...</td>\n",
       "      <td>...</td>\n",
       "      <td>...</td>\n",
       "    </tr>\n",
       "    <tr>\n",
       "      <th>2022-09-26</th>\n",
       "      <td>2023-01-26</td>\n",
       "      <td>118.0</td>\n",
       "      <td>3778.591854</td>\n",
       "      <td>6.857490</td>\n",
       "      <td>-0.5034093181633841</td>\n",
       "    </tr>\n",
       "    <tr>\n",
       "      <th>2022-09-27</th>\n",
       "      <td>2023-01-27</td>\n",
       "      <td>119.0</td>\n",
       "      <td>3779.273940</td>\n",
       "      <td>6.990068</td>\n",
       "      <td>-0.4735279943571875</td>\n",
       "    </tr>\n",
       "    <tr>\n",
       "      <th>2022-09-28</th>\n",
       "      <td>2023-01-28</td>\n",
       "      <td>120.0</td>\n",
       "      <td>3779.956149</td>\n",
       "      <td>6.998260</td>\n",
       "      <td>-0.472975398406831</td>\n",
       "    </tr>\n",
       "    <tr>\n",
       "      <th>2022-09-29</th>\n",
       "      <td>2023-01-29</td>\n",
       "      <td>121.0</td>\n",
       "      <td>3780.638480</td>\n",
       "      <td>6.902759</td>\n",
       "      <td>-0.4968629718747888</td>\n",
       "    </tr>\n",
       "    <tr>\n",
       "      <th>2022-09-30</th>\n",
       "      <td>2023-01-30</td>\n",
       "      <td>122.0</td>\n",
       "      <td>3781.320936</td>\n",
       "      <td>6.810000</td>\n",
       "      <td>-0.5199870206667816</td>\n",
       "    </tr>\n",
       "  </tbody>\n",
       "</table>\n",
       "<p>3190 rows × 5 columns</p>\n",
       "</div>"
      ],
      "text/plain": [
       "              Maturity Date as per purchase date  Days left from end date  \\\n",
       "Purchase Date                                                               \n",
       "2021-01-01                            2021-04-01                      0.0   \n",
       "2021-01-02                            2021-04-02                      0.0   \n",
       "2021-01-03                            2021-04-03                      0.0   \n",
       "2021-01-04                            2021-04-04                      0.0   \n",
       "2021-01-05                            2021-04-05                      0.0   \n",
       "...                                          ...                      ...   \n",
       "2022-09-26                            2023-01-26                    118.0   \n",
       "2022-09-27                            2023-01-27                    119.0   \n",
       "2022-09-28                            2023-01-28                    120.0   \n",
       "2022-09-29                            2023-01-29                    121.0   \n",
       "2022-09-30                            2023-01-30                    122.0   \n",
       "\n",
       "               Nav on maturity  IRR at current YTM Slippage (at Avg. Mat.)  \n",
       "Purchase Date                                                               \n",
       "2021-01-01          305.206300           33.003150         Already Matured  \n",
       "2021-01-02          305.206300           33.003150         Already Matured  \n",
       "2021-01-03          305.206300           33.003150         Already Matured  \n",
       "2021-01-04          305.206300           32.750132         Already Matured  \n",
       "2021-01-05          305.206300           32.635940         Already Matured  \n",
       "...                        ...                 ...                     ...  \n",
       "2022-09-26         3778.591854            6.857490     -0.5034093181633841  \n",
       "2022-09-27         3779.273940            6.990068     -0.4735279943571875  \n",
       "2022-09-28         3779.956149            6.998260      -0.472975398406831  \n",
       "2022-09-29         3780.638480            6.902759     -0.4968629718747888  \n",
       "2022-09-30         3781.320936            6.810000     -0.5199870206667816  \n",
       "\n",
       "[3190 rows x 5 columns]"
      ]
     },
     "execution_count": 48,
     "metadata": {},
     "output_type": "execute_result"
    }
   ],
   "source": [
    "#Slippage at Avg. Maturity\n",
    "\n",
    "dn1=pd.DataFrame()\n",
    "\n",
    "dn1['Purchase Date'] = dn['Date']\n",
    "\n",
    "\n",
    "dn1['Maturity Date as per purchase date'] = dn.apply\\\n",
    "(lambda x: x['Date'] + relativedelta(months = int(x['Avg Mat']*12)), axis = 1)\n",
    "\n",
    "dn1['Days left from end date'] = np.where(((dn1['Maturity Date as per purchase date']-end_date)/oneday)>0,\\\n",
    "(dn1['Maturity Date as per purchase date']-end_date)/oneday,0)\n",
    "\n",
    "dn1['Nav on maturity'] = dn['Nav on end date']*((1+dn['YTM as on end date']/100)**((dn1['Days left from end date'])/365))\n",
    "\n",
    "dn1['IRR at current YTM'] = (((dn1['Nav on maturity']/dn['Nav - Purchase date'])**\\\n",
    "                            ((1/((dn1['Maturity Date as per purchase date']-dn['Date'])/365/oneday))))-1)*100\n",
    "\n",
    "dn1['Slippage (at Avg. Mat.)'] = np.where((dn1['Days left from end date'])==0,\\\n",
    "'Already Matured',(dn1['IRR at current YTM']-dn['Yield on Purchase date']))\n",
    "\n",
    "dn1.set_index('Purchase Date')"
   ]
  },
  {
   "cell_type": "code",
   "execution_count": 49,
   "id": "69a24307",
   "metadata": {},
   "outputs": [
    {
     "data": {
      "text/html": [
       "<div>\n",
       "<style scoped>\n",
       "    .dataframe tbody tr th:only-of-type {\n",
       "        vertical-align: middle;\n",
       "    }\n",
       "\n",
       "    .dataframe tbody tr th {\n",
       "        vertical-align: top;\n",
       "    }\n",
       "\n",
       "    .dataframe thead th {\n",
       "        text-align: right;\n",
       "    }\n",
       "</style>\n",
       "<table border=\"1\" class=\"dataframe\">\n",
       "  <thead>\n",
       "    <tr style=\"text-align: right;\">\n",
       "      <th></th>\n",
       "      <th>Date of completing 3 years</th>\n",
       "      <th>Days left from 3y completion</th>\n",
       "      <th>Nav on maturity</th>\n",
       "      <th>IRR at 3y</th>\n",
       "      <th>Slippage (at 3y)</th>\n",
       "    </tr>\n",
       "    <tr>\n",
       "      <th>Purchase Date</th>\n",
       "      <th></th>\n",
       "      <th></th>\n",
       "      <th></th>\n",
       "      <th></th>\n",
       "      <th></th>\n",
       "    </tr>\n",
       "  </thead>\n",
       "  <tbody>\n",
       "    <tr>\n",
       "      <th>2021-01-01</th>\n",
       "      <td>2024-01-01</td>\n",
       "      <td>458.0</td>\n",
       "      <td>332.249317</td>\n",
       "      <td>5.310247</td>\n",
       "      <td>1.360247467480633</td>\n",
       "    </tr>\n",
       "    <tr>\n",
       "      <th>2021-01-02</th>\n",
       "      <td>2024-01-02</td>\n",
       "      <td>459.0</td>\n",
       "      <td>332.310911</td>\n",
       "      <td>5.316755</td>\n",
       "      <td>1.3329361607642163</td>\n",
       "    </tr>\n",
       "    <tr>\n",
       "      <th>2021-01-03</th>\n",
       "      <td>2024-01-03</td>\n",
       "      <td>460.0</td>\n",
       "      <td>332.372516</td>\n",
       "      <td>5.323262</td>\n",
       "      <td>1.3056252561309662</td>\n",
       "    </tr>\n",
       "    <tr>\n",
       "      <th>2021-01-04</th>\n",
       "      <td>2024-01-04</td>\n",
       "      <td>461.0</td>\n",
       "      <td>332.434132</td>\n",
       "      <td>5.313287</td>\n",
       "      <td>1.4085901444919076</td>\n",
       "    </tr>\n",
       "    <tr>\n",
       "      <th>2021-01-05</th>\n",
       "      <td>2024-01-05</td>\n",
       "      <td>462.0</td>\n",
       "      <td>332.495760</td>\n",
       "      <td>5.312345</td>\n",
       "      <td>1.4401789094481288</td>\n",
       "    </tr>\n",
       "    <tr>\n",
       "      <th>...</th>\n",
       "      <td>...</td>\n",
       "      <td>...</td>\n",
       "      <td>...</td>\n",
       "      <td>...</td>\n",
       "      <td>...</td>\n",
       "    </tr>\n",
       "    <tr>\n",
       "      <th>2022-09-26</th>\n",
       "      <td>2025-09-26</td>\n",
       "      <td>1092.0</td>\n",
       "      <td>4504.853617</td>\n",
       "      <td>6.815285</td>\n",
       "      <td>-0.5456142689328596</td>\n",
       "    </tr>\n",
       "    <tr>\n",
       "      <th>2022-09-27</th>\n",
       "      <td>2025-09-27</td>\n",
       "      <td>1093.0</td>\n",
       "      <td>4505.666802</td>\n",
       "      <td>6.830029</td>\n",
       "      <td>-0.6335669884034063</td>\n",
       "    </tr>\n",
       "    <tr>\n",
       "      <th>2022-09-28</th>\n",
       "      <td>2025-09-28</td>\n",
       "      <td>1094.0</td>\n",
       "      <td>4506.480135</td>\n",
       "      <td>6.830940</td>\n",
       "      <td>-0.6402959871763683</td>\n",
       "    </tr>\n",
       "    <tr>\n",
       "      <th>2022-09-29</th>\n",
       "      <td>2025-09-29</td>\n",
       "      <td>1095.0</td>\n",
       "      <td>4507.293614</td>\n",
       "      <td>6.820321</td>\n",
       "      <td>-0.5793008688026449</td>\n",
       "    </tr>\n",
       "    <tr>\n",
       "      <th>2022-09-30</th>\n",
       "      <td>2025-09-30</td>\n",
       "      <td>1096.0</td>\n",
       "      <td>4508.107240</td>\n",
       "      <td>6.810000</td>\n",
       "      <td>-0.5199870206668038</td>\n",
       "    </tr>\n",
       "  </tbody>\n",
       "</table>\n",
       "<p>3190 rows × 5 columns</p>\n",
       "</div>"
      ],
      "text/plain": [
       "              Date of completing 3 years  Days left from 3y completion  \\\n",
       "Purchase Date                                                            \n",
       "2021-01-01                    2024-01-01                         458.0   \n",
       "2021-01-02                    2024-01-02                         459.0   \n",
       "2021-01-03                    2024-01-03                         460.0   \n",
       "2021-01-04                    2024-01-04                         461.0   \n",
       "2021-01-05                    2024-01-05                         462.0   \n",
       "...                                  ...                           ...   \n",
       "2022-09-26                    2025-09-26                        1092.0   \n",
       "2022-09-27                    2025-09-27                        1093.0   \n",
       "2022-09-28                    2025-09-28                        1094.0   \n",
       "2022-09-29                    2025-09-29                        1095.0   \n",
       "2022-09-30                    2025-09-30                        1096.0   \n",
       "\n",
       "               Nav on maturity  IRR at 3y     Slippage (at 3y)  \n",
       "Purchase Date                                                   \n",
       "2021-01-01          332.249317   5.310247    1.360247467480633  \n",
       "2021-01-02          332.310911   5.316755   1.3329361607642163  \n",
       "2021-01-03          332.372516   5.323262   1.3056252561309662  \n",
       "2021-01-04          332.434132   5.313287   1.4085901444919076  \n",
       "2021-01-05          332.495760   5.312345   1.4401789094481288  \n",
       "...                        ...        ...                  ...  \n",
       "2022-09-26         4504.853617   6.815285  -0.5456142689328596  \n",
       "2022-09-27         4505.666802   6.830029  -0.6335669884034063  \n",
       "2022-09-28         4506.480135   6.830940  -0.6402959871763683  \n",
       "2022-09-29         4507.293614   6.820321  -0.5793008688026449  \n",
       "2022-09-30         4508.107240   6.810000  -0.5199870206668038  \n",
       "\n",
       "[3190 rows x 5 columns]"
      ]
     },
     "execution_count": 49,
     "metadata": {},
     "output_type": "execute_result"
    }
   ],
   "source": [
    "#Slippage at 3 years\n",
    "\n",
    "dn2 = pd.DataFrame()\n",
    "\n",
    "dn2['Purchase Date'] = dn['Date']\n",
    "\n",
    "dn2['Date of completing 3 years'] = dn.apply\\\n",
    "(lambda x: x['Date']+relativedelta(years = 3), axis = 1)\n",
    "\n",
    "dn2['Days left from 3y completion'] = np.where(((dn2['Date of completing 3 years']-end_date)/oneday)>0,\\\n",
    "(dn2['Date of completing 3 years']-end_date)/oneday,0)\n",
    "\n",
    "dn2['Nav on maturity'] = dn['Nav on end date']*((1+dn['YTM as on end date']/100)**((dn2['Days left from 3y completion'])/365))\n",
    "\n",
    "dn2['IRR at 3y'] = (((dn2['Nav on maturity']/dn['Nav - Purchase date'])**\\\n",
    "                            ((1/((dn2['Date of completing 3 years']-dn['Date'])/365/oneday))))-1)*100\n",
    "\n",
    "dn2['Slippage (at 3y)'] = np.where((dn2['Days left from 3y completion'])==0,\\\n",
    "'Already Matured',(dn2['IRR at 3y']-dn['Yield on Purchase date']))\n",
    "\n",
    "dn2.set_index('Purchase Date')"
   ]
  },
  {
   "cell_type": "code",
   "execution_count": 50,
   "id": "ed376daa",
   "metadata": {},
   "outputs": [],
   "source": [
    "df_slippage = pd.DataFrame ({\n",
    "    'Purchase Date' : dn['Date'],\n",
    "    'Scheme': dn['Scheme'],\n",
    "    'Current Slippage' : dn['Slippage (Current)'],\n",
    "    'Slippage at avg. maturity': dn1['Slippage (at Avg. Mat.)'],\n",
    "    'Slippage at 3Y': dn2['Slippage (at 3y)']\n",
    "}).set_index('Purchase Date')"
   ]
  },
  {
   "cell_type": "code",
   "execution_count": 51,
   "id": "2afada26",
   "metadata": {},
   "outputs": [],
   "source": [
    "with pd.ExcelWriter('MultiScheme.xlsx') as writer:\n",
    "    dn.to_excel(writer, sheet_name='Mapping & Current Slippage Cal')\n",
    "    dn1.to_excel(writer, sheet_name='Avg. maturity')\n",
    "    dn2.to_excel(writer, sheet_name='At 3Y')\n",
    "    df_slippage.to_excel(writer, sheet_name='Slippage')"
   ]
  }
 ],
 "metadata": {
  "kernelspec": {
   "display_name": "Python 3 (ipykernel)",
   "language": "python",
   "name": "python3"
  },
  "language_info": {
   "codemirror_mode": {
    "name": "ipython",
    "version": 3
   },
   "file_extension": ".py",
   "mimetype": "text/x-python",
   "name": "python",
   "nbconvert_exporter": "python",
   "pygments_lexer": "ipython3",
   "version": "3.9.7"
  }
 },
 "nbformat": 4,
 "nbformat_minor": 5
}
